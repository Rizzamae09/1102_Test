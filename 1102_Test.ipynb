{
  "nbformat": 4,
  "nbformat_minor": 0,
  "metadata": {
    "colab": {
      "provenance": [],
      "collapsed_sections": [],
      "authorship_tag": "ABX9TyMOGLEbfhm3ewTr95kF53xq",
      "include_colab_link": true
    },
    "kernelspec": {
      "name": "python3",
      "display_name": "Python 3"
    },
    "language_info": {
      "name": "python"
    }
  },
  "cells": [
    {
      "cell_type": "markdown",
      "metadata": {
        "id": "view-in-github",
        "colab_type": "text"
      },
      "source": [
        "<a href=\"https://colab.research.google.com/github/Rizzamae09/1102_Test/blob/main/1102_Test.ipynb\" target=\"_parent\"><img src=\"https://colab.research.google.com/assets/colab-badge.svg\" alt=\"Open In Colab\"/></a>"
      ]
    },
    {
      "cell_type": "markdown",
      "source": [
        "MULTIPLE CHOICE\n",
        "\n",
        "Which following is the correct way to create a dictionary in Python?\n",
        "\n",
        "   (A) students = { 'name' => 'alice' ;  'score' =>60 }\n",
        "\n",
        "   (B) students = { 'name' = 'alice' ;  'score' =60 }\n",
        "\n",
        "   (C) students = { 'name' : 'alice' ;  'score' : 60 }\n",
        "\n",
        "   (D) students = { 'name' => 'alice' ,  'score' =>60 }\n",
        "\n",
        "   (E) students = { 'name' : 'alice' , 'score' : 60 }\n"
      ],
      "metadata": {
        "id": "Lg4grD81ukI5"
      }
    },
    {
      "cell_type": "code",
      "source": [
        "{ 'name' : 'alice' , 'score' : 60 }"
      ],
      "metadata": {
        "colab": {
          "base_uri": "https://localhost:8080/"
        },
        "id": "aQQFthymvJep",
        "outputId": "c66d89ce-2e79-4314-cec0-691778ba5036"
      },
      "execution_count": 10,
      "outputs": [
        {
          "output_type": "execute_result",
          "data": {
            "text/plain": [
              "{'name': 'alice', 'score': 60}"
            ]
          },
          "metadata": {},
          "execution_count": 10
        }
      ]
    },
    {
      "cell_type": "markdown",
      "source": [
        "Answer: (E)"
      ],
      "metadata": {
        "id": "zyFjn-qYvR7W"
      }
    },
    {
      "cell_type": "markdown",
      "source": [
        "What does the following Python program fragment do?\n",
        "\n",
        "   s=0\n",
        "\n",
        "   for i in range (3 , 10) :\n",
        "\n",
        "        s+=i\n",
        "\n",
        "   print (s)\n",
        "\n",
        "   (A) Calculate the sum of 1+2+…+10\n",
        "\n",
        "   (B) Calculate the sum of 1+4+7+10\n",
        "\n",
        "   (C) Calculate the sum of 3+4+5+6+…+9\n",
        "\n",
        "   (D) Calculate the sum of 3+4+5+6+…+10\n",
        "\n",
        "   (E) Calculate the sum of 0+2+4+6+…+10\n",
        "   "
      ],
      "metadata": {
        "id": "SDgROglXvVjE"
      }
    },
    {
      "cell_type": "markdown",
      "source": [
        "Answer: (C)"
      ],
      "metadata": {
        "id": "uxgWPwAdv1ix"
      }
    },
    {
      "cell_type": "markdown",
      "source": [
        "What is the output of this code in Python?\n",
        "\n",
        "      list = [ ' a ' ,  ' b ' ,  ' c ' ,  ' d ' ,  ' e ' ]\n",
        "\n",
        "      print (list [ 1 : ])\n",
        "\n",
        "   (A) [ ]\n",
        "\n",
        "   (B) [ 'b' ]\n",
        "\n",
        "   (C) [ 'a' ,  'b' ]\n",
        "\n",
        "   (D) [ 'b' ,  'c' ,  'd' ,  'e' ]\n",
        "   "
      ],
      "metadata": {
        "id": "QnpRuE5xv9Bh"
      }
    },
    {
      "cell_type": "code",
      "source": [
        "list = [ ' a ' ,  ' b ' ,  ' c ' ,  ' d ' ,  ' e ' ]\n",
        "print(list [1:])"
      ],
      "metadata": {
        "colab": {
          "base_uri": "https://localhost:8080/"
        },
        "id": "dw7aSXmYwATV",
        "outputId": "94ebb6c3-9582-4054-f5f6-84d03bbaa0f7"
      },
      "execution_count": 11,
      "outputs": [
        {
          "output_type": "stream",
          "name": "stdout",
          "text": [
            "[' b ', ' c ', ' d ', ' e ']\n"
          ]
        }
      ]
    },
    {
      "cell_type": "markdown",
      "source": [
        "Answer: (D)"
      ],
      "metadata": {
        "id": "eSVGFOazwbx_"
      }
    },
    {
      "cell_type": "markdown",
      "source": [
        "What is the output of this code in Python?\n",
        "\n",
        "        L1 = [ ]\n",
        "\n",
        "        L1.append ( [1, [2, 3], 4] )\n",
        "\n",
        "        L1.extend ( [7, 8, 9] )\n",
        "\n",
        "        print(L1[0][1][1] + L1[2] )\n",
        "        \n",
        "   (A) 3  (B) 8  (C) 11  (D) 38  (E) None of these"
      ],
      "metadata": {
        "id": "ouwQh7k2wgi1"
      }
    },
    {
      "cell_type": "code",
      "source": [
        "L1 = [ ]"
      ],
      "metadata": {
        "id": "8-06epsJwm8B"
      },
      "execution_count": 12,
      "outputs": []
    },
    {
      "cell_type": "markdown",
      "source": [
        "Answer: (E)"
      ],
      "metadata": {
        "id": "vd3CDYdSwv3X"
      }
    },
    {
      "cell_type": "markdown",
      "source": [
        "What is the output of this code in python?\n",
        "\n",
        "        r = lambda q: q * 2\n",
        "\n",
        "        s = lambda q: q * 3\n",
        "\n",
        "        x = 2\n",
        "\n",
        "        x = r (x)\n",
        "\n",
        "        x = s (x)\n",
        "\n",
        "        x = r (x)\n",
        "\n",
        "        print (x)\n",
        "        \n",
        "   (A) 2  (B) 4  (C) 6  (D) 12  (E) 24"
      ],
      "metadata": {
        "id": "a5FORVxwwyFG"
      }
    },
    {
      "cell_type": "code",
      "source": [
        "r = lambda q: q * 2\n",
        "s = lambda q: q * 3\n",
        "x = 2\n",
        "x = r (x)\n",
        "x = s (x)\n",
        "x = r (x)\n",
        "print (x)"
      ],
      "metadata": {
        "colab": {
          "base_uri": "https://localhost:8080/"
        },
        "id": "qxK5Qu9-xB7p",
        "outputId": "3a47b556-9ac8-41ee-e869-352f4bf04a5f"
      },
      "execution_count": 14,
      "outputs": [
        {
          "output_type": "stream",
          "name": "stdout",
          "text": [
            "24\n"
          ]
        }
      ]
    },
    {
      "cell_type": "markdown",
      "source": [
        "ANswer: (E)"
      ],
      "metadata": {
        "id": "6PddYo-oxPz7"
      }
    },
    {
      "cell_type": "markdown",
      "source": [
        "Which of the following conditions correctly describes the output of this code in  Python?\n",
        "\n",
        "         first = [1 , 2 , 3 , 4 , 5]\n",
        "\n",
        "         second = first\n",
        "\n",
        "         second.append (6)\n",
        "\n",
        "         print (first)\n",
        "\n",
        "         print (second)\n",
        "\n",
        "   (A) first=[1, 2, 3, 4, 5], second=[1, 2, 3, 4, 5, 6]\n",
        "\n",
        "   (B) first=[1, 2, 3, 4, 5, 6], second=[1, 2, 3, 4, 5]\n",
        "\n",
        "   (C) first=[1, 2, 3, 4, 5], second=[1, 2, 3, 4, 5]\n",
        "\n",
        "   (D) first=[1, 2, 3, 4, 5, 6], second=[1, 2, 3, 4, 5, 6]\n",
        "   \n",
        "   (E) None of these"
      ],
      "metadata": {
        "id": "rKWOrmAdxVpq"
      }
    },
    {
      "cell_type": "code",
      "source": [
        "first = [1 , 2 , 3 , 4 , 5]\n",
        "second = first\n",
        "second.append (6)\n",
        "print (first)\n",
        "print (second)"
      ],
      "metadata": {
        "colab": {
          "base_uri": "https://localhost:8080/"
        },
        "id": "iNjEZX6qxg_F",
        "outputId": "b6122104-f0c3-4ffb-bb43-6cd34afd5902"
      },
      "execution_count": 15,
      "outputs": [
        {
          "output_type": "stream",
          "name": "stdout",
          "text": [
            "[1, 2, 3, 4, 5, 6]\n",
            "[1, 2, 3, 4, 5, 6]\n"
          ]
        }
      ]
    },
    {
      "cell_type": "markdown",
      "source": [
        "Answer: (D)"
      ],
      "metadata": {
        "id": "LX1C4CXcx56d"
      }
    },
    {
      "cell_type": "markdown",
      "source": [
        "If the function \n",
        "\n",
        "int volume (int x = 1, int y = 1, int z = 1); \n",
        "is called by the expression volume (7,8), \n",
        "how many default arguments are used?\n",
        "\n",
        "(A) None  (B) One  (C) Two  (D) Three\n",
        "\n",
        "(E) It depends on the runtime environment."
      ],
      "metadata": {
        "id": "9ZHrtEk2yEcH"
      }
    },
    {
      "cell_type": "markdown",
      "source": [
        "Answer :(A)"
      ],
      "metadata": {
        "id": "PAPPRA5NyyNd"
      }
    },
    {
      "cell_type": "markdown",
      "source": [
        "READING COMPREHENSION\n",
        "\n",
        "What is the output of this code in Python?\n",
        "\n",
        "# primes.py\n",
        "\n",
        "primes = []  # this will contain the primes at the end\n",
        "\n",
        "upto = 100  # the limit, inclusive\n",
        "\n",
        "for n in range(2, upto + 1):\n",
        "\n",
        "    is_prime = True  # flag, new at each iteration of outer for\n",
        "\n",
        "    for divisor in range(2, n):\n",
        "\n",
        "        if n % divisor == 0:\n",
        "\n",
        "            is_prime = False\n",
        "\n",
        "            break\n",
        "\n",
        "    if is_prime:  # check on flag\n",
        "\n",
        "        primes.append(n)\n",
        "        \n",
        "print(primes)"
      ],
      "metadata": {
        "id": "J8-w_jzuy_WE"
      }
    },
    {
      "cell_type": "code",
      "source": [
        "# primes.py\n",
        "primes = []  # this will contain the primes at the end\n",
        "upto = 100  # the limit, inclusive\n",
        "for n in range(2, upto + 1):\n",
        "    is_prime = True  # flag, new at each iteration of outer for\n",
        "    for divisor in range(2, n):\n",
        "        if n % divisor == 0:\n",
        "            is_prime = False\n",
        "            break\n",
        "    if is_prime:  # check on flag\n",
        "        primes.append(n)\n",
        "print(primes)"
      ],
      "metadata": {
        "colab": {
          "base_uri": "https://localhost:8080/"
        },
        "id": "b8a-R1ijzNod",
        "outputId": "1557edd5-bd1a-4289-f890-f6f3d14b4859"
      },
      "execution_count": 16,
      "outputs": [
        {
          "output_type": "stream",
          "name": "stdout",
          "text": [
            "[2, 3, 5, 7, 11, 13, 17, 19, 23, 29, 31, 37, 41, 43, 47, 53, 59, 61, 67, 71, 73, 79, 83, 89, 97]\n"
          ]
        }
      ]
    },
    {
      "cell_type": "markdown",
      "source": [
        "Answer: [2, 3, 5, 7, 11, 13, 17, 19, 23, 29, 31, 37, 41, 43, 47, 53, 59, 61, 67, 71, 73, 79, 83, 89, 97]"
      ],
      "metadata": {
        "id": "PzFV7A8xzUTv"
      }
    },
    {
      "cell_type": "markdown",
      "source": [
        "What is the output of this code in Python?"
      ],
      "metadata": {
        "id": "ReSkFG5rzZDL"
      }
    },
    {
      "cell_type": "code",
      "source": [
        "# primes.else.py\n",
        "primes = []\n",
        "upto = 100\n",
        "for n in range(2, upto + 1):\n",
        "    for divisor in range(2, n):\n",
        "        if n % divisor == 0:\n",
        "            break\n",
        "    else:\n",
        "        primes.append(n)\n",
        "print(primes)"
      ],
      "metadata": {
        "colab": {
          "base_uri": "https://localhost:8080/"
        },
        "id": "31sdQRLLzcpr",
        "outputId": "19278958-d855-4f47-ce1d-d7f3bc5c8647"
      },
      "execution_count": 17,
      "outputs": [
        {
          "output_type": "stream",
          "name": "stdout",
          "text": [
            "[2, 3, 5, 7, 11, 13, 17, 19, 23, 29, 31, 37, 41, 43, 47, 53, 59, 61, 67, 71, 73, 79, 83, 89, 97]\n"
          ]
        }
      ]
    },
    {
      "cell_type": "markdown",
      "source": [
        "Answer: [2, 3, 5, 7, 11, 13, 17, 19, 23, 29, 31, 37, 41, 43, 47, 53, 59, 61, 67, 71, 73, 79, 83, 89, 97]"
      ],
      "metadata": {
        "id": "Vv-cXG8_zi30"
      }
    },
    {
      "cell_type": "markdown",
      "source": [
        "What is the output of this code in Python?"
      ],
      "metadata": {
        "id": "bvi2Cr5rzlvN"
      }
    },
    {
      "cell_type": "code",
      "source": [
        "cubes = [x**3 for x in range(1,6)]\n",
        "print(cubes)"
      ],
      "metadata": {
        "colab": {
          "base_uri": "https://localhost:8080/"
        },
        "id": "iwC7wTi8zphi",
        "outputId": "f2c4cd8b-6c41-4521-8d1d-fb5767ad127c"
      },
      "execution_count": 18,
      "outputs": [
        {
          "output_type": "stream",
          "name": "stdout",
          "text": [
            "[1, 8, 27, 64, 125]\n"
          ]
        }
      ]
    },
    {
      "cell_type": "markdown",
      "source": [
        "Answer: [1, 8, 27, 64, 125]"
      ],
      "metadata": {
        "id": "qGrAxJMUzt8T"
      }
    },
    {
      "cell_type": "markdown",
      "source": [
        "Programming Python\n",
        "\n",
        "(1)Write a Python function/Program to Find Fibonacci Numbers using Recursion"
      ],
      "metadata": {
        "id": "bJr7sOa00PQV"
      }
    },
    {
      "cell_type": "code",
      "source": [
        "def recur_fibo(n):  \n",
        "   if n <= 1:  \n",
        "       return n  \n",
        "   else:  \n",
        "       return(recur_fibo(n-1) + recur_fibo(n-2))  \n",
        "# take input from the user  \n",
        "nterms = int(input(\"How many terms? \"))  \n",
        "# check if the number of terms is valid  \n",
        "if nterms <= 0:  \n",
        "   print(\"Plese enter a positive integer\")  \n",
        "else:  \n",
        "   print(\"Fibonacci numbers:\")  \n",
        "   for i in range(nterms):  \n",
        "       print(recur_fibo(i))  "
      ],
      "metadata": {
        "colab": {
          "base_uri": "https://localhost:8080/"
        },
        "id": "_RNAxiDG0wHQ",
        "outputId": "5f71886e-c405-4e6a-a401-f8e5789bf843"
      },
      "execution_count": 21,
      "outputs": [
        {
          "output_type": "stream",
          "name": "stdout",
          "text": [
            "How many terms? 25\n",
            "Fibonacci numbers:\n",
            "0\n",
            "1\n",
            "1\n",
            "2\n",
            "3\n",
            "5\n",
            "8\n",
            "13\n",
            "21\n",
            "34\n",
            "55\n",
            "89\n",
            "144\n",
            "233\n",
            "377\n",
            "610\n",
            "987\n",
            "1597\n",
            "2584\n",
            "4181\n",
            "6765\n",
            "10946\n",
            "17711\n",
            "28657\n",
            "46368\n"
          ]
        }
      ]
    },
    {
      "cell_type": "markdown",
      "source": [
        "(2)Use iterative Approach To Find the nth Term Of Fibonacci Sequence(You need to write a function using loop)"
      ],
      "metadata": {
        "id": "utCbIwni1FKK"
      }
    },
    {
      "cell_type": "code",
      "source": [
        "def fibonacci(n):\n",
        "    a,b = 0,1\n",
        "    for i in range(n):\n",
        "        a,b = b,a+b\n",
        "    return a\n",
        "\n",
        "print(fibonacci(6))"
      ],
      "metadata": {
        "colab": {
          "base_uri": "https://localhost:8080/"
        },
        "id": "OWoSCF7u1KVI",
        "outputId": "e7d2237f-1a56-417f-e7ce-0d9a2ec70cea"
      },
      "execution_count": 22,
      "outputs": [
        {
          "output_type": "stream",
          "name": "stdout",
          "text": [
            "8\n"
          ]
        }
      ]
    },
    {
      "cell_type": "code",
      "source": [
        "a = 0\n",
        "b = 1\n",
        "n=int(input(\"Enter the number of terms in the sequence: \"))\n",
        "print(a,b,end=\" \")\n",
        "while(n-2):\n",
        "    c=a+b\n",
        "    a,b = b,c\n",
        "    print(c,end=\" \")\n",
        "    n=n-1"
      ],
      "metadata": {
        "id": "gfObLU_E2WfE"
      },
      "execution_count": null,
      "outputs": []
    }
  ]
}